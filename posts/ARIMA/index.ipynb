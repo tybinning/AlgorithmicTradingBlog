{
  "cells": [
    {
      "cell_type": "raw",
      "metadata": {},
      "source": [
        "---\n",
        "title: \"ARIMA Models: A Practical Guide\"\n",
        "author: \"Tyler Binning\"\n",
        "date: \"2025-01-22\"\n",
        "categories: [analysis, forecasting]\n",
        "---"
      ],
      "id": "801d2a57"
    },
    {
      "cell_type": "markdown",
      "metadata": {},
      "source": [
        "How can we use ARIMA models for forecasting?\n",
        "\n",
        "# What Are ARIMA Models?\n",
        "Auto-Regression Intergation Moving Average models of ARIMA's for short are a statistical model used with time series data to attempt forecasting a value at the current time period from the previous time period.\n",
        "\n",
        "Auto-Regression Intergation Moving Average\n",
        "\n",
        "### Applications\n",
        "ARIMA models can be applied to any time series data, although the accuracy may vary. \n",
        "Here's some use cases where time series data is most prevelent:\n",
        "- Stock market analysis\n",
        "- Weather Forecasting\n",
        "- Sales Forecasting\n",
        "- Website Traffic Analysis\n",
        "- Sensor Data\n",
        "- Healthcare Analytics\n",
        "\n",
        "As you can see there's lots of uses of time series data, most of which applying our ARIMA models would benefit.\n",
        "\n",
        "## Packages Needed\n",
        "For this activity we will need the following packages"
      ],
      "id": "9d300e45"
    },
    {
      "cell_type": "code",
      "metadata": {},
      "source": [
        "#statsmodels\n",
        "# pandas \n",
        "# plotly\n",
        "from statsmodel.graphics.tsaplots import plot_acf, plot_pacf\n",
        "from statsmodel.tsa.arima.model import ARIMA\n",
        "from statsmodels.tsa.stattools import adfuller\n",
        "\n",
        "from pandas as pd\n",
        "from plotly.express import px\n",
        "from plotly.graph_objects import go"
      ],
      "id": "0f83a29d",
      "execution_count": null,
      "outputs": []
    },
    {
      "cell_type": "markdown",
      "metadata": {},
      "source": [
        "## Autocorrelation\n",
        "\n",
        "Correlation measures the relationship between two groups. Returning a number between -1 and 1. Where values closer to 1 has a strong positive relationship, values close to  -1 has a strong negative relationship, and values near zero show no relationship.\n",
        "\n",
        "- pictures displaying a strong negative relationship and a strong positive relationship\n",
        "    - maybe graph it?\n",
        "\n",
        "## Dickey-Fuller Test\n",
        "Null Hypotheis: Series isn't Stationary\n",
        "Alternate Hypothesis: Series is Stationary\n"
      ],
      "id": "35f6d5b9"
    },
    {
      "cell_type": "markdown",
      "metadata": {},
      "source": [
        "- display an obviously non-stationary plot\n",
        "- display a stationary plot\n",
        "\n",
        "\n",
        "## Transformations to Stationary\n",
        "\n",
        "## Autocorrelation Function\n",
        "\n",
        "\n",
        "## Partial Auto-correlation Function\n",
        "\n",
        "\n",
        "## ARIMA Model \n",
        "\n",
        "- latex notation\n",
        "\n",
        "## Defining Parameters\n",
        "\n",
        "## Ploting Forecast\n",
        "\n",
        "## Determining Performance\n",
        "\n",
        "## Outside aspects\n",
        "\n",
        "### ARIMAX\n",
        "\n",
        "#### Exogeniuos Varibales\n",
        "\n",
        "### SARIMA\n",
        "\n",
        "#### Seasonal Components\n",
        "- decompose\n",
        "\n",
        "#### model Parameters\n",
        "\n",
        "\n",
        "\n",
        "- Autocorrelation\n",
        "- PACF\n",
        "- ACF\n",
        "- simple ARIMA\n",
        "- ARIMAX\n",
        "- SARIMAX\n",
        "- Seasonal decompose"
      ],
      "id": "8d69498d"
    }
  ],
  "metadata": {
    "kernelspec": {
      "name": "python3",
      "language": "python",
      "display_name": "Python 3 (ipykernel)"
    }
  },
  "nbformat": 4,
  "nbformat_minor": 5
}